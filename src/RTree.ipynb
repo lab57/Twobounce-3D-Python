{
 "cells": [
  {
   "cell_type": "code",
   "execution_count": 6,
   "metadata": {},
   "outputs": [],
   "source": [
    "from rtree import index\n",
    "import numpy as np\n",
    "\n",
    "class RTree3D:\n",
    "    def __init__(self, triangles):\n",
    "        p = index.Property(dimension=3)\n",
    "        self.triangles = triangles\n",
    "        self.idx = index.Index(interleaved=True, properties=p)\n",
    "        for i, triangle in enumerate(triangles):\n",
    "            self.idx.insert(i, self._get_triangle_bounds(triangle), triangle)\n",
    "\n",
    "    def _get_triangle_bounds(self, triangle):\n",
    "        min_x = min(triangle.a[0], triangle.b[0], triangle.c[0])\n",
    "        min_y = min(triangle.a[1], triangle.b[1], triangle.c[1])\n",
    "        min_z = min(triangle.a[2], triangle.b[2], triangle.c[2])\n",
    "\n",
    "        max_x = max(triangle.a[0], triangle.b[0], triangle.c[0])\n",
    "        max_y = max(triangle.a[1], triangle.b[1], triangle.c[1])\n",
    "        max_z = max(triangle.a[2], triangle.b[2], triangle.c[2])\n",
    "\n",
    "        return (min_x, min_y, min_z, max_x, max_y, max_z)\n",
    "\n",
    "    def queryRay(self, origin, direction):\n",
    "        rayBounds = self._get_ray_bounds(origin, direction)\n",
    "        print(f\"{rayBounds=}\")\n",
    "        if(len(rayBounds) == 0):\n",
    "            return []\n",
    "        intersections = self.idx.intersection(rayBounds, objects=True)\n",
    "        intersected_triangles = [self.triangles[obj.id] for obj in intersections]\n",
    "\n",
    "        return intersected_triangles\n",
    "\n",
    "    def _get_ray_bounds(self, origin, direction):\n",
    "        \n",
    "        t_min, t_max = 0, 1e9  # Change t_max if you want a maximum ray length\n",
    "\n",
    "        # Compute the ray intersection with the scene's AABB\n",
    "        bounds_min = np.array(self.idx.get_bounds()[:3])\n",
    "        bounds_max = np.array(self.idx.get_bounds()[3:])\n",
    "        t1 = (bounds_min - origin) / direction\n",
    "        t2 = (bounds_max - origin) / direction\n",
    "\n",
    "        t_near = np.maximum(np.minimum(t1, t2), t_min)\n",
    "        t_far = np.minimum(np.maximum(t1, t2), t_max)\n",
    "\n",
    "        if np.any(t_near > t_far):\n",
    "            return []\n",
    "\n",
    "        bounds_min = origin + direction * t_near\n",
    "        bounds_max = origin + direction * t_far\n",
    "\n",
    "        return (*bounds_min, *bounds_max)\n"
   ]
  },
  {
   "cell_type": "code",
   "execution_count": 13,
   "metadata": {},
   "outputs": [],
   "source": [
    "import heapq\n",
    "from rtree import index\n",
    "import numpy as np\n",
    "\n",
    "class RTree3D:\n",
    "    def __init__(self, triangles):\n",
    "        p = index.Property(dimension=3)\n",
    "        self.triangles = triangles\n",
    "        self.idx = index.Index(interleaved=True, properties=p).\n",
    "\n",
    "        for i, triangle in enumerate(triangles):\n",
    "            bounds = self._get_triangle_bounds(triangle)\n",
    "            print(bounds)\n",
    "            self.idx.insert(i, bounds)\n",
    "\n",
    "    def _get_triangle_bounds(self, triangle):\n",
    "        min_x = min(triangle.a[0], triangle.b[0], triangle.c[0])\n",
    "        min_y = min(triangle.a[1], triangle.b[1], triangle.c[1])\n",
    "        min_z = min(triangle.a[2], triangle.b[2], triangle.c[2])\n",
    "\n",
    "        max_x = max(triangle.a[0], triangle.b[0], triangle.c[0])\n",
    "        max_y = max(triangle.a[1], triangle.b[1], triangle.c[1])\n",
    "        max_z = max(triangle.a[2], triangle.b[2], triangle.c[2])\n",
    "\n",
    "        return (min_x, min_y, min_z, max_x, max_y, max_z)\n",
    "\n",
    "    def queryRay(self, origin, direction):\n",
    "        intersected_triangles = []\n",
    "        ray_bbox_visitor = RayBBoxVisitor(self.idx, origin, direction)\n",
    "\n",
    "        for node_id in ray_bbox_visitor.visit():\n",
    "            if node_id in self.idx.leaves():\n",
    "                intersected_triangles.append(self.triangles[node_id])\n",
    "\n",
    "        return intersected_triangles\n",
    "\n",
    "\n",
    "class RayBBoxVisitor:\n",
    "    def __init__(self, rtree, origin, direction):\n",
    "        self.rtree = rtree\n",
    "        self.origin = origin\n",
    "        self.direction = direction\n",
    "        self.queue = []\n",
    "\n",
    "    def visit(self):\n",
    "        root = self.rtree.get_root()\n",
    "        heapq.heappush(self.queue, (0.0, root))\n",
    "\n",
    "        while self.queue:\n",
    "            _, node = heapq.heappop(self.queue)\n",
    "\n",
    "            if self.rtree.is_leaf(node):\n",
    "                yield node.id\n",
    "            else:\n",
    "                for child in self.rtree.children(node):\n",
    "                    t_near, t_far = self._ray_bbox_intersection(child.bbox)\n",
    "                    if t_near <= t_far:\n",
    "                        heapq.heappush(self.queue, (t_near, child))\n",
    "\n",
    "    def _ray_bbox_intersection(self, bbox):\n",
    "        t1 = (bbox[:3] - self.origin) / self.direction\n",
    "        t2 = (bbox[3:] - self.origin) / self.direction\n",
    "        t_near = np.maximum(np.minimum(t1, t2), 0)\n",
    "        t_far = np.minimum(np.maximum(t1, t2), 1e9)\n",
    "\n",
    "        return float(np.max(t_near)), float(np.min(t_far))\n"
   ]
  },
  {
   "cell_type": "code",
   "execution_count": 1,
   "metadata": {},
   "outputs": [],
   "source": [
    "\n",
    "import numpy as np\n",
    "from rtree import index\n",
    "\n",
    "from twobounce2 import ObjLoader\n",
    "from GeometricObjects import *\n",
    "\n",
    "\n",
    "class Triangle:\n",
    "    def __init__(self, coords):\n",
    "        self.a = coords[0]\n",
    "        self.b = coords[1]\n",
    "        self.c = coords[2]\n",
    "        self.at = None\n",
    "        self.bt = None\n",
    "        self.ct = None\n",
    "        self.normal = None\n",
    "        self.collisions = []\n",
    "        self.textureCoords = []\n",
    "        self.bounds = self.bounds()\n",
    "\n",
    "    def bounds(self):\n",
    "        min_coords = np.minimum(np.minimum(self.a, self.b), self.c)\n",
    "        max_coords = np.maximum(np.maximum(self.a, self.b), self.c)\n",
    "        return tuple(min_coords) + tuple(max_coords)\n",
    "\n",
    "\n",
    "class RTree3D:\n",
    "    def __init__(self, triangles):\n",
    "        self.triangles = triangles\n",
    "        p = index.Property()\n",
    "        p.dimension = 3\n",
    "        self.index = index.Index(properties=p, interleave=True)\n",
    "\n",
    "        for i, triangle in enumerate(triangles):\n",
    "            self.index.insert(i, triangle.bounds)\n",
    "\n",
    "    def queryRay(self, origin, direction):\n",
    "        ray_origin = np.array(origin)\n",
    "        ray_direction = np.array(direction) / np.linalg.norm(direction)\n",
    "\n",
    "        def ray_box_intersection(box_min, box_max):\n",
    "            t_min = (box_min - ray_origin) / ray_direction\n",
    "            t_max = (box_max - ray_origin) / ray_direction\n",
    "            t_min, t_max = np.minimum(t_min, t_max), np.maximum(t_min, t_max)\n",
    "            t_enter = np.max(t_min)\n",
    "            t_exit = np.min(t_max)\n",
    "            return t_enter <= t_exit and t_exit >= 0\n",
    "\n",
    "        intersecting_triangles = []\n",
    "\n",
    "        for i in self.index.intersection(origin + direction, objects=True):\n",
    "            triangle = self.triangles[i.id]\n",
    "            box_min, box_max = np.array(triangle.bounds[:3]), np.array(triangle.bounds[3:])\n",
    "            if ray_box_intersection(box_min, box_max):\n",
    "                intersecting_triangles.append(triangle)\n",
    "\n",
    "        return intersecting_triangles"
   ]
  },
  {
   "cell_type": "code",
   "execution_count": null,
   "metadata": {},
   "outputs": [],
   "source": []
  },
  {
   "cell_type": "code",
   "execution_count": 2,
   "metadata": {},
   "outputs": [
    {
     "ename": "TypeError",
     "evalue": "'<=' not supported between instances of 'Vector' and 'Vector'",
     "output_type": "error",
     "traceback": [
      "\u001b[0;31m---------------------------------------------------------------------------\u001b[0m",
      "\u001b[0;31mTypeError\u001b[0m                                 Traceback (most recent call last)",
      "Cell \u001b[0;32mIn[2], line 1\u001b[0m\n\u001b[0;32m----> 1\u001b[0m tris \u001b[39m=\u001b[39m ObjLoader(\u001b[39m\"\u001b[39;49m\u001b[39m../\u001b[39;49m\u001b[39m\"\u001b[39;49m)\u001b[39m.\u001b[39;49mload(\u001b[39m\"\u001b[39;49m\u001b[39m./monkey_circle.obj\u001b[39;49m\u001b[39m\"\u001b[39;49m)[\u001b[39m1\u001b[39m]\n",
      "File \u001b[0;32m~/Desktop/Research/MOLLER/Twobounce-3D-Python/src/twobounce2.py:99\u001b[0m, in \u001b[0;36mObjLoader.load\u001b[0;34m(self, filename)\u001b[0m\n\u001b[1;32m     97\u001b[0m v2 \u001b[39m=\u001b[39m split[\u001b[39m2\u001b[39m]\u001b[39m.\u001b[39msplit(\u001b[39m\"\u001b[39m\u001b[39m/\u001b[39m\u001b[39m\"\u001b[39m)\n\u001b[1;32m     98\u001b[0m v3 \u001b[39m=\u001b[39m split[\u001b[39m3\u001b[39m]\u001b[39m.\u001b[39msplit(\u001b[39m\"\u001b[39m\u001b[39m/\u001b[39m\u001b[39m\"\u001b[39m)\n\u001b[0;32m---> 99\u001b[0m triangle \u001b[39m=\u001b[39m Triangle(\n\u001b[1;32m    100\u001b[0m     (\n\u001b[1;32m    101\u001b[0m         verticies[\u001b[39mint\u001b[39;49m(v1[\u001b[39m0\u001b[39;49m]) \u001b[39m-\u001b[39;49m \u001b[39m1\u001b[39;49m],\n\u001b[1;32m    102\u001b[0m         verticies[\u001b[39mint\u001b[39;49m(v2[\u001b[39m0\u001b[39;49m]) \u001b[39m-\u001b[39;49m \u001b[39m1\u001b[39;49m],\n\u001b[1;32m    103\u001b[0m         verticies[\u001b[39mint\u001b[39;49m(v3[\u001b[39m0\u001b[39;49m]) \u001b[39m-\u001b[39;49m \u001b[39m1\u001b[39;49m],\n\u001b[1;32m    104\u001b[0m     )\n\u001b[1;32m    105\u001b[0m )\n\u001b[1;32m    106\u001b[0m triangle\u001b[39m.\u001b[39mtextureCoords \u001b[39m=\u001b[39m (\n\u001b[1;32m    107\u001b[0m     texture_verticies[\u001b[39mint\u001b[39m(v1[\u001b[39m1\u001b[39m]) \u001b[39m-\u001b[39m \u001b[39m1\u001b[39m],\n\u001b[1;32m    108\u001b[0m     texture_verticies[\u001b[39mint\u001b[39m(v2[\u001b[39m1\u001b[39m]) \u001b[39m-\u001b[39m \u001b[39m1\u001b[39m],\n\u001b[1;32m    109\u001b[0m     texture_verticies[\u001b[39mint\u001b[39m(v3[\u001b[39m1\u001b[39m]) \u001b[39m-\u001b[39m \u001b[39m1\u001b[39m],\n\u001b[1;32m    110\u001b[0m )\n\u001b[1;32m    111\u001b[0m triangle\u001b[39m.\u001b[39mnormal \u001b[39m=\u001b[39m normals[\u001b[39mint\u001b[39m(v1[\u001b[39m2\u001b[39m]) \u001b[39m-\u001b[39m \u001b[39m1\u001b[39m]\n",
      "File \u001b[0;32m~/Desktop/Research/MOLLER/Twobounce-3D-Python/src/GeometricObjects.py:148\u001b[0m, in \u001b[0;36mTriangle.__init__\u001b[0;34m(self, coords)\u001b[0m\n\u001b[1;32m    146\u001b[0m \u001b[39mself\u001b[39m\u001b[39m.\u001b[39mcollisions \u001b[39m=\u001b[39m []\n\u001b[1;32m    147\u001b[0m \u001b[39mself\u001b[39m\u001b[39m.\u001b[39mtextureCoords \u001b[39m=\u001b[39m []\n\u001b[0;32m--> 148\u001b[0m \u001b[39mself\u001b[39m\u001b[39m.\u001b[39mbounds \u001b[39m=\u001b[39m \u001b[39mself\u001b[39;49m\u001b[39m.\u001b[39;49mbounds()\n",
      "File \u001b[0;32m~/Desktop/Research/MOLLER/Twobounce-3D-Python/src/GeometricObjects.py:151\u001b[0m, in \u001b[0;36mTriangle.bounds\u001b[0;34m(self)\u001b[0m\n\u001b[1;32m    150\u001b[0m \u001b[39mdef\u001b[39;00m \u001b[39mbounds\u001b[39m(\u001b[39mself\u001b[39m):\n\u001b[0;32m--> 151\u001b[0m     min_coords \u001b[39m=\u001b[39m np\u001b[39m.\u001b[39mminimum(np\u001b[39m.\u001b[39;49mminimum(\u001b[39mself\u001b[39;49m\u001b[39m.\u001b[39;49ma, \u001b[39mself\u001b[39;49m\u001b[39m.\u001b[39;49mb), \u001b[39mself\u001b[39m\u001b[39m.\u001b[39mc)\n\u001b[1;32m    152\u001b[0m     max_coords \u001b[39m=\u001b[39m np\u001b[39m.\u001b[39mmaximum(np\u001b[39m.\u001b[39mmaximum(\u001b[39mself\u001b[39m\u001b[39m.\u001b[39ma, \u001b[39mself\u001b[39m\u001b[39m.\u001b[39mb), \u001b[39mself\u001b[39m\u001b[39m.\u001b[39mc)\n\u001b[1;32m    153\u001b[0m     \u001b[39mreturn\u001b[39;00m \u001b[39mtuple\u001b[39m(min_coords) \u001b[39m+\u001b[39m \u001b[39mtuple\u001b[39m(max_coords)\n",
      "\u001b[0;31mTypeError\u001b[0m: '<=' not supported between instances of 'Vector' and 'Vector'"
     ]
    }
   ],
   "source": [
    "tris = ObjLoader(\"../\").load(\"./monkey_circle.obj\")[1]"
   ]
  },
  {
   "cell_type": "code",
   "execution_count": 3,
   "metadata": {},
   "outputs": [
    {
     "ename": "NameError",
     "evalue": "name 'tris' is not defined",
     "output_type": "error",
     "traceback": [
      "\u001b[0;31m---------------------------------------------------------------------------\u001b[0m",
      "\u001b[0;31mNameError\u001b[0m                                 Traceback (most recent call last)",
      "Cell \u001b[0;32mIn[3], line 1\u001b[0m\n\u001b[0;32m----> 1\u001b[0m \u001b[39mlen\u001b[39m(tris)\n\u001b[1;32m      2\u001b[0m \u001b[39mprint\u001b[39m(tris[\u001b[39m0\u001b[39m]\u001b[39m.\u001b[39mbounds)\n",
      "\u001b[0;31mNameError\u001b[0m: name 'tris' is not defined"
     ]
    }
   ],
   "source": [
    "len(tris)\n",
    "print(tris[0].bounds)"
   ]
  },
  {
   "cell_type": "code",
   "execution_count": 4,
   "metadata": {},
   "outputs": [
    {
     "ename": "NameError",
     "evalue": "name 'tris' is not defined",
     "output_type": "error",
     "traceback": [
      "\u001b[0;31m---------------------------------------------------------------------------\u001b[0m",
      "\u001b[0;31mNameError\u001b[0m                                 Traceback (most recent call last)",
      "Cell \u001b[0;32mIn[4], line 1\u001b[0m\n\u001b[0;32m----> 1\u001b[0m rtree \u001b[39m=\u001b[39m RTree3D(tris)\n\u001b[1;32m      2\u001b[0m origin \u001b[39m=\u001b[39m np\u001b[39m.\u001b[39marray([\u001b[39m0\u001b[39m, \u001b[39m0\u001b[39m, \u001b[39m0\u001b[39m])\n\u001b[1;32m      3\u001b[0m direction \u001b[39m=\u001b[39m np\u001b[39m.\u001b[39marray([\u001b[39m20\u001b[39m, \u001b[39m0\u001b[39m, \u001b[39m0\u001b[39m])\n",
      "\u001b[0;31mNameError\u001b[0m: name 'tris' is not defined"
     ]
    }
   ],
   "source": [
    "rtree = RTree3D(tris)\n",
    "origin = np.array([0, 0, 0])\n",
    "direction = np.array([20, 0, 0])\n",
    "\n",
    "intersected_triangles = rtree.queryRay(origin, direction)\n",
    "len(intersected_triangles)"
   ]
  },
  {
   "cell_type": "code",
   "execution_count": 5,
   "metadata": {},
   "outputs": [],
   "source": [
    "import numpy as np\n",
    "from rtree import index\n",
    "from rtree.index import Rtree\n",
    "\n",
    "class Vector:\n",
    "    def __init__(self, x, y, z):\n",
    "        self.x = x\n",
    "        self.y = y\n",
    "        self.z = z\n",
    "\n",
    "    def __sub__(self, other):\n",
    "        return Vector(self.x - other.x, self.y - other.y, self.z - other.z)\n",
    "\n",
    "    def cross(self, other):\n",
    "        return Vector(self.y * other.z - self.z * other.y,\n",
    "                      self.z * other.x - self.x * other.z,\n",
    "                      self.x * other.y - self.y * other.x)\n",
    "\n",
    "class Triangle:\n",
    "    def __init__(self, coords):\n",
    "        self.a = coords[0]\n",
    "        self.b = coords[1]\n",
    "        self.c = coords[2]\n",
    "        self.at = None\n",
    "        self.bt = None\n",
    "        self.ct = None\n",
    "        self.normal = None\n",
    "        self.collisions = []\n",
    "        self.textureCoords = []\n",
    "\n",
    "class TriangleRTree:\n",
    "    def __init__(self, triangles):\n",
    "        self.index = index.Index(interleaved=False)\n",
    "        for i, t in enumerate(triangles):\n",
    "            self.index.insert(i, self._triangle_bbox(t))\n",
    "\n",
    "    def _triangle_bbox(self, triangle):\n",
    "        min_x = min(triangle.a.x, triangle.b.x, triangle.c.x)\n",
    "        min_y = min(triangle.a.y, triangle.b.y, triangle.c.y)\n",
    "        min_z = min(triangle.a.z, triangle.b.z, triangle.c.z)\n",
    "        max_x = max(triangle.a.x, triangle.b.x, triangle.c.x)\n",
    "        max_y = max(triangle.a.y, triangle.b.y, triangle.c.y)\n",
    "        max_z = max(triangle.a.z, triangle.b.z, triangle.c.z)\n",
    "        return (min_x, min_y, min_z, max_x, max_y, max_z)\n",
    "\n",
    "    def queryRay(self, origin, direction, triangles):\n",
    "        ray_bbox = self._compute_ray_bbox(origin, direction)\n",
    "        intersected_indices = list(self.index.intersection(ray_bbox, objects=False))\n",
    "        intersected_triangles = [triangles[i] for i in intersected_indices]\n",
    "        return intersected_triangles\n",
    "\n",
    "    def _compute_ray_bbox(self, origin, direction, t_min=0, t_max=float('inf')):\n",
    "        inv_direction = Vector(1 / direction.x, 1 / direction.y, 1 / direction.z)\n",
    "        t1 = (t_min * direction + origin - Vector(0, 0, 0)) * inv_direction\n",
    "        t2 = (t_max * direction + origin - Vector(0, 0, 0)) * inv_direction\n",
    "        return (min(t1.x, t2.x), min(t1.y, t2.y), min(t1.z, t2.z),\n",
    "                max(t1.x, t2.x), max(t1.y, t2.y), max(t1.z, t2.z))\n"
   ]
  },
  {
   "cell_type": "code",
   "execution_count": 6,
   "metadata": {},
   "outputs": [
    {
     "ename": "TypeError",
     "evalue": "'<=' not supported between instances of 'Vector' and 'Vector'",
     "output_type": "error",
     "traceback": [
      "\u001b[0;31m---------------------------------------------------------------------------\u001b[0m",
      "\u001b[0;31mTypeError\u001b[0m                                 Traceback (most recent call last)",
      "Cell \u001b[0;32mIn[6], line 1\u001b[0m\n\u001b[0;32m----> 1\u001b[0m tris \u001b[39m=\u001b[39m ObjLoader(\u001b[39m\"\u001b[39;49m\u001b[39m../\u001b[39;49m\u001b[39m\"\u001b[39;49m)\u001b[39m.\u001b[39;49mload(\u001b[39m\"\u001b[39;49m\u001b[39m./monkey_circle.obj\u001b[39;49m\u001b[39m\"\u001b[39;49m)[\u001b[39m1\u001b[39m]\n\u001b[1;32m      2\u001b[0m triangle_rtree \u001b[39m=\u001b[39m TriangleRTree(tris)\n",
      "File \u001b[0;32m~/Desktop/Research/MOLLER/Twobounce-3D-Python/src/twobounce2.py:99\u001b[0m, in \u001b[0;36mObjLoader.load\u001b[0;34m(self, filename)\u001b[0m\n\u001b[1;32m     97\u001b[0m v2 \u001b[39m=\u001b[39m split[\u001b[39m2\u001b[39m]\u001b[39m.\u001b[39msplit(\u001b[39m\"\u001b[39m\u001b[39m/\u001b[39m\u001b[39m\"\u001b[39m)\n\u001b[1;32m     98\u001b[0m v3 \u001b[39m=\u001b[39m split[\u001b[39m3\u001b[39m]\u001b[39m.\u001b[39msplit(\u001b[39m\"\u001b[39m\u001b[39m/\u001b[39m\u001b[39m\"\u001b[39m)\n\u001b[0;32m---> 99\u001b[0m triangle \u001b[39m=\u001b[39m Triangle(\n\u001b[1;32m    100\u001b[0m     (\n\u001b[1;32m    101\u001b[0m         verticies[\u001b[39mint\u001b[39;49m(v1[\u001b[39m0\u001b[39;49m]) \u001b[39m-\u001b[39;49m \u001b[39m1\u001b[39;49m],\n\u001b[1;32m    102\u001b[0m         verticies[\u001b[39mint\u001b[39;49m(v2[\u001b[39m0\u001b[39;49m]) \u001b[39m-\u001b[39;49m \u001b[39m1\u001b[39;49m],\n\u001b[1;32m    103\u001b[0m         verticies[\u001b[39mint\u001b[39;49m(v3[\u001b[39m0\u001b[39;49m]) \u001b[39m-\u001b[39;49m \u001b[39m1\u001b[39;49m],\n\u001b[1;32m    104\u001b[0m     )\n\u001b[1;32m    105\u001b[0m )\n\u001b[1;32m    106\u001b[0m triangle\u001b[39m.\u001b[39mtextureCoords \u001b[39m=\u001b[39m (\n\u001b[1;32m    107\u001b[0m     texture_verticies[\u001b[39mint\u001b[39m(v1[\u001b[39m1\u001b[39m]) \u001b[39m-\u001b[39m \u001b[39m1\u001b[39m],\n\u001b[1;32m    108\u001b[0m     texture_verticies[\u001b[39mint\u001b[39m(v2[\u001b[39m1\u001b[39m]) \u001b[39m-\u001b[39m \u001b[39m1\u001b[39m],\n\u001b[1;32m    109\u001b[0m     texture_verticies[\u001b[39mint\u001b[39m(v3[\u001b[39m1\u001b[39m]) \u001b[39m-\u001b[39m \u001b[39m1\u001b[39m],\n\u001b[1;32m    110\u001b[0m )\n\u001b[1;32m    111\u001b[0m triangle\u001b[39m.\u001b[39mnormal \u001b[39m=\u001b[39m normals[\u001b[39mint\u001b[39m(v1[\u001b[39m2\u001b[39m]) \u001b[39m-\u001b[39m \u001b[39m1\u001b[39m]\n",
      "File \u001b[0;32m~/Desktop/Research/MOLLER/Twobounce-3D-Python/src/GeometricObjects.py:148\u001b[0m, in \u001b[0;36mTriangle.__init__\u001b[0;34m(self, coords)\u001b[0m\n\u001b[1;32m    146\u001b[0m \u001b[39mself\u001b[39m\u001b[39m.\u001b[39mcollisions \u001b[39m=\u001b[39m []\n\u001b[1;32m    147\u001b[0m \u001b[39mself\u001b[39m\u001b[39m.\u001b[39mtextureCoords \u001b[39m=\u001b[39m []\n\u001b[0;32m--> 148\u001b[0m \u001b[39mself\u001b[39m\u001b[39m.\u001b[39mbounds \u001b[39m=\u001b[39m \u001b[39mself\u001b[39;49m\u001b[39m.\u001b[39;49mbounds()\n",
      "File \u001b[0;32m~/Desktop/Research/MOLLER/Twobounce-3D-Python/src/GeometricObjects.py:151\u001b[0m, in \u001b[0;36mTriangle.bounds\u001b[0;34m(self)\u001b[0m\n\u001b[1;32m    150\u001b[0m \u001b[39mdef\u001b[39;00m \u001b[39mbounds\u001b[39m(\u001b[39mself\u001b[39m):\n\u001b[0;32m--> 151\u001b[0m     min_coords \u001b[39m=\u001b[39m np\u001b[39m.\u001b[39mminimum(np\u001b[39m.\u001b[39;49mminimum(\u001b[39mself\u001b[39;49m\u001b[39m.\u001b[39;49ma, \u001b[39mself\u001b[39;49m\u001b[39m.\u001b[39;49mb), \u001b[39mself\u001b[39m\u001b[39m.\u001b[39mc)\n\u001b[1;32m    152\u001b[0m     max_coords \u001b[39m=\u001b[39m np\u001b[39m.\u001b[39mmaximum(np\u001b[39m.\u001b[39mmaximum(\u001b[39mself\u001b[39m\u001b[39m.\u001b[39ma, \u001b[39mself\u001b[39m\u001b[39m.\u001b[39mb), \u001b[39mself\u001b[39m\u001b[39m.\u001b[39mc)\n\u001b[1;32m    153\u001b[0m     \u001b[39mreturn\u001b[39;00m \u001b[39mtuple\u001b[39m(min_coords) \u001b[39m+\u001b[39m \u001b[39mtuple\u001b[39m(max_coords)\n",
      "\u001b[0;31mTypeError\u001b[0m: '<=' not supported between instances of 'Vector' and 'Vector'"
     ]
    }
   ],
   "source": [
    "tris = ObjLoader(\"../\").load(\"./monkey_circle.obj\")[1]\n",
    "triangle_rtree = TriangleRTree(tris)"
   ]
  },
  {
   "cell_type": "code",
   "execution_count": 20,
   "metadata": {},
   "outputs": [],
   "source": [
    "from twobounce2 import ObjLoader\n",
    "from GeometricObjects import *\n",
    "\n",
    "class Vector:\n",
    "    def __init__(self, x, y, z):\n",
    "        self.x = x\n",
    "        self.y = y\n",
    "        self.z = z\n",
    "\n",
    "class Triangle:\n",
    "    def __init__(self, coords):\n",
    "        self.a = coords[0]\n",
    "        self.b = coords[1]\n",
    "        self.c = coords[2]\n",
    "        self.at = None\n",
    "        self.bt = None\n",
    "        self.ct = None\n",
    "        self.normal = None\n",
    "        self.collisions = []\n",
    "        self.textureCoords = []\n",
    "\n",
    "class RTreeNode:\n",
    "    def __init__(self, triangles=None, children=None):\n",
    "        self.triangles = triangles if triangles is not None else []\n",
    "        self.children = children if children is not None else []\n",
    "        self.bbox = None\n",
    "        self.update_bbox()\n",
    "\n",
    "    def update_bbox(self):\n",
    "        if self.children:\n",
    "            self.bbox = self.combine_bboxes([child.bbox for child in self.children])\n",
    "        elif self.triangles:\n",
    "            self.bbox = self.combine_bboxes([self.get_bbox(triangle) for triangle in self.triangles])\n",
    "\n",
    "    def combine_bboxes(self, bboxes):\n",
    "        if not bboxes:\n",
    "            return None\n",
    "\n",
    "        min_x = min([bbox[0] for bbox in bboxes])\n",
    "        min_y = min([bbox[1] for bbox in bboxes])\n",
    "        min_z = min([bbox[2] for bbox in bboxes])\n",
    "        max_x = max([bbox[3] for bbox in bboxes])\n",
    "        max_y = max([bbox[4] for bbox in bboxes])\n",
    "        max_z = max([bbox[5] for bbox in bboxes])\n",
    "\n",
    "        return (min_x, min_y, min_z, max_x, max_y, max_z)\n",
    "\n",
    "    def get_bbox(self, triangle):\n",
    "        coords = [triangle.a, triangle.b, triangle.c]\n",
    "        min_x = min(coord.x for coord in coords)\n",
    "        min_y = min(coord.y for coord in coords)\n",
    "        min_z = min(coord.z for coord in coords)\n",
    "        max_x = max(coord.x for coord in coords)\n",
    "        max_y = max(coord.y for coord in coords)\n",
    "        max_z = max(coord.z for coord in coords)\n",
    "\n",
    "        return (min_x, min_y, min_z, max_x, max_y, max_z)\n",
    "\n",
    "class RTREE:\n",
    "    def __init__(self, max_triangles=10):\n",
    "        self.root = RTreeNode()\n",
    "        self.max_triangles = max_triangles\n",
    "\n",
    "    def insert(self, triangle):\n",
    "        if not self.root.bbox:\n",
    "            self.root.triangles.append(triangle)\n",
    "            self.root.update_bbox()\n",
    "            return\n",
    "\n",
    "        if len(self.root.triangles) < self.max_triangles:\n",
    "            self.root.triangles.append(triangle)\n",
    "            self.root.update_bbox()\n",
    "        else:\n",
    "            if not self.root.children:\n",
    "                self.split_root()\n",
    "\n",
    "            for child in self.root.children:\n",
    "                if self.insert_into_node(triangle, child):\n",
    "                    break\n",
    "\n",
    "    def split_root(self):\n",
    "        sorted_triangles = sorted(self.root.triangles, key=lambda t: (t.a.x + t.b.x + t.c.x) / 3)\n",
    "        half = len(sorted_triangles) // 2\n",
    "        self.root.children = [\n",
    "            RTreeNode(triangles=sorted_triangles[:half]),\n",
    "            RTreeNode(triangles=sorted_triangles[half:]),\n",
    "        ]\n",
    "        self.root.triangles = []\n",
    "        self.root.update_bbox()\n",
    "\n",
    "    def insert_into_node(self, triangle, node):\n",
    "        if not node.bbox:\n",
    "            node.triangles.append(triangle)\n",
    "            node.update_bbox()\n",
    "            return True\n",
    "\n",
    "        if len(node.triangles) < self.max_triangles:\n",
    "            node.triangles.append(triangle)\n",
    "            node.update_bbox()\n",
    "            return True\n",
    "        else:\n",
    "            if not node.children:\n",
    "                self.split_node(node)\n",
    "\n",
    "            for child in node.children:\n",
    "                if self.insert_into_node(triangle, child):\n",
    "                    return True\n",
    "\n",
    "        return False\n",
    "\n",
    "    def split_node(self, node):\n",
    "        sorted_triangles = sorted(node.triangles, key=lambda t: (t.a.x + t.b.x + t.c.x) / 3)\n",
    "        half = len(sorted_triangles) // 2\n",
    "        node.children = [\n",
    "            RTreeNode(triangles=sorted_triangles[:half]),\n",
    "            RTreeNode(triangles=sorted_triangles[half:]),\n",
    "        ]\n",
    "        node.triangles = []\n",
    "        node.update_bbox()\n",
    "\n",
    "    def query_ray(self, origin, direction):\n",
    "        intersected_triangles = []\n",
    "        self._query_ray_recursive(origin, direction, self.root, intersected_triangles)\n",
    "        return intersected_triangles\n",
    "\n",
    "    def _query_ray_recursive(self, origin, direction, node, intersected_triangles):\n",
    "        if not node.bbox or self.ray_intersects_bbox(origin, direction, node.bbox):\n",
    "            if node.children:\n",
    "                for child in node.children:\n",
    "                    self._query_ray_recursive(origin, direction, child, intersected_triangles)\n",
    "            else:\n",
    "                intersected_triangles.extend(node.triangles)\n",
    "\n",
    "    def ray_intersects_bbox(self, origin, direction, bbox):\n",
    "        min_x, min_y, min_z, max_x, max_y, max_z = bbox\n",
    "        tmin = (min_x - origin.x) / direction.x\n",
    "        tmax = (max_x - origin.x) / direction.x\n",
    "\n",
    "        if tmin > tmax:\n",
    "            tmin, tmax = tmax, tmin\n",
    "\n",
    "        tymin = (min_y - origin.y) / direction.y\n",
    "        tymax = (max_y - origin.y) / direction.y\n",
    "\n",
    "        if tymin > tymax:\n",
    "            tymin, tymax = tymax, tymin\n",
    "\n",
    "        if (tmin > tymax) or (tymin > tmax):\n",
    "            return False\n",
    "\n",
    "        tmin = max(tmin, tymin)\n",
    "        tmax = min(tmax, tymax)\n",
    "\n",
    "        tzmin = (min_z - origin.z) / direction.z\n",
    "        tzmax = (max_z - origin.z) / direction.z\n",
    "\n",
    "        if tzmin > tzmax:\n",
    "            tzmin, tzmax = tzmax, tzmin\n",
    "\n",
    "        if (tmin > tzmax) or (tzmin > tmax):\n",
    "            return False\n",
    "\n",
    "        return True\n",
    "\n"
   ]
  },
  {
   "cell_type": "code",
   "execution_count": 23,
   "metadata": {},
   "outputs": [
    {
     "data": {
      "text/plain": [
       "[Tri[<-2.3,  0.1,  0.2>, <-2.3,  0.0,  0.4>, <-2.4, -0.0,  0.4>],\n",
       " Tri[<-2.2,  0.2, -0.1>, <-2.3,  0.1, -0.1>, <-2.2,  0.1, -0.2>],\n",
       " Tri[<-2.2,  0.2,  0.2>, <-2.3,  0.1,  0.2>, <-2.3,  0.2,  0.1>],\n",
       " Tri[<-2.1,  0.2, -0.2>, <-2.2,  0.2, -0.1>, <-2.2,  0.1, -0.2>],\n",
       " Tri[<-2.2,  0.2,  0.2>, <-2.2,  0.2,  0.3>, <-2.2,  0.1,  0.2>],\n",
       " Tri[<-2.1,  0.2, -0.2>, <-2.2,  0.4, -0.2>, <-2.2,  0.2, -0.1>],\n",
       " Tri[<-2.2,  0.4,  0.2>, <-2.2,  0.2,  0.3>, <-2.2,  0.2,  0.2>],\n",
       " Tri[<-2.2,  0.4, -0.2>, <-2.3,  0.2, -0.0>, <-2.2,  0.2, -0.1>],\n",
       " Tri[<-2.2,  0.4,  0.2>, <-2.3,  0.2,  0.1>, <-2.3,  0.4,  0.2>],\n",
       " Tri[<-2.2,  0.5, -0.3>, <-2.3,  0.4, -0.1>, <-2.2,  0.4, -0.2>]]"
      ]
     },
     "execution_count": 23,
     "metadata": {},
     "output_type": "execute_result"
    }
   ],
   "source": [
    "tris = ObjLoader(\"../\").load(\"./monkey_circle.obj\")[1]\n",
    "rtree = RTREE()\n",
    "for tri in tris:\n",
    "    rtree.insert(tri)\n",
    "rtree.root."
   ]
  },
  {
   "cell_type": "code",
   "execution_count": 13,
   "metadata": {},
   "outputs": [
    {
     "data": {
      "text/plain": [
       "7744"
      ]
     },
     "execution_count": 13,
     "metadata": {},
     "output_type": "execute_result"
    }
   ],
   "source": [
    "len(tris)"
   ]
  },
  {
   "cell_type": "code",
   "execution_count": 73,
   "metadata": {},
   "outputs": [
    {
     "ename": "TypeError",
     "evalue": "'Vector' object is not subscriptable",
     "output_type": "error",
     "traceback": [
      "\u001b[0;31m---------------------------------------------------------------------------\u001b[0m",
      "\u001b[0;31mTypeError\u001b[0m                                 Traceback (most recent call last)",
      "Cell \u001b[0;32mIn[73], line 103\u001b[0m\n\u001b[1;32m     99\u001b[0m intersected_triangles\n\u001b[1;32m    102\u001b[0m tris \u001b[39m=\u001b[39m ObjLoader(\u001b[39m\"\u001b[39m\u001b[39m../\u001b[39m\u001b[39m\"\u001b[39m)\u001b[39m.\u001b[39mload(\u001b[39m\"\u001b[39m\u001b[39m./monkey_circle.obj\u001b[39m\u001b[39m\"\u001b[39m)[\u001b[39m1\u001b[39m]\n\u001b[0;32m--> 103\u001b[0m rtree \u001b[39m=\u001b[39m RTree(tris)\n\u001b[1;32m    104\u001b[0m origin \u001b[39m=\u001b[39m [\u001b[39m0\u001b[39m, \u001b[39m0\u001b[39m, \u001b[39m0\u001b[39m]\n\u001b[1;32m    105\u001b[0m direction \u001b[39m=\u001b[39m [\u001b[39m1\u001b[39m, \u001b[39m1\u001b[39m, \u001b[39m1\u001b[39m]\n",
      "Cell \u001b[0;32mIn[73], line 28\u001b[0m, in \u001b[0;36mRTree.__init__\u001b[0;34m(self, triangles, max_triangles_per_leaf)\u001b[0m\n\u001b[1;32m     27\u001b[0m \u001b[39mdef\u001b[39;00m \u001b[39m__init__\u001b[39m(\u001b[39mself\u001b[39m, triangles, max_triangles_per_leaf\u001b[39m=\u001b[39m\u001b[39m8\u001b[39m):\n\u001b[0;32m---> 28\u001b[0m     \u001b[39mself\u001b[39m\u001b[39m.\u001b[39mroot \u001b[39m=\u001b[39m \u001b[39mself\u001b[39;49m\u001b[39m.\u001b[39;49mbuild_tree(triangles, max_triangles_per_leaf)\n",
      "Cell \u001b[0;32mIn[73], line 37\u001b[0m, in \u001b[0;36mRTree.build_tree\u001b[0;34m(self, triangles, max_triangles_per_leaf)\u001b[0m\n\u001b[1;32m     34\u001b[0m     \u001b[39mreturn\u001b[39;00m RTreeNode(bounding_box, triangles\u001b[39m=\u001b[39mtriangles)\n\u001b[1;32m     36\u001b[0m \u001b[39m# Choose an axis to split along\u001b[39;00m\n\u001b[0;32m---> 37\u001b[0m axis \u001b[39m=\u001b[39m \u001b[39mself\u001b[39;49m\u001b[39m.\u001b[39;49mchoose_split_axis(triangles)\n\u001b[1;32m     39\u001b[0m \u001b[39m# Sort triangles along the chosen axis\u001b[39;00m\n\u001b[1;32m     40\u001b[0m triangles\u001b[39m.\u001b[39msort(key\u001b[39m=\u001b[39m\u001b[39mlambda\u001b[39;00m t: t\u001b[39m.\u001b[39ma[axis])\n",
      "Cell \u001b[0;32mIn[73], line 75\u001b[0m, in \u001b[0;36mRTree.choose_split_axis\u001b[0;34m(self, triangles)\u001b[0m\n\u001b[1;32m     73\u001b[0m extents \u001b[39m=\u001b[39m []\n\u001b[1;32m     74\u001b[0m \u001b[39mfor\u001b[39;00m axis \u001b[39min\u001b[39;00m \u001b[39mrange\u001b[39m(\u001b[39m3\u001b[39m):\n\u001b[0;32m---> 75\u001b[0m     min_coord, max_coord \u001b[39m=\u001b[39m \u001b[39mzip\u001b[39m(\u001b[39m*\u001b[39m[(t\u001b[39m.\u001b[39;49ma[axis], t\u001b[39m.\u001b[39;49mc[axis]) \u001b[39mfor\u001b[39;49;00m t \u001b[39min\u001b[39;49;00m triangles])\n\u001b[1;32m     76\u001b[0m     extents\u001b[39m.\u001b[39mappend(\u001b[39mmax\u001b[39m(max_coord) \u001b[39m-\u001b[39m \u001b[39mmin\u001b[39m(min_coord))\n\u001b[1;32m     77\u001b[0m \u001b[39mreturn\u001b[39;00m extents\u001b[39m.\u001b[39mindex(\u001b[39mmax\u001b[39m(extents))\n",
      "Cell \u001b[0;32mIn[73], line 75\u001b[0m, in \u001b[0;36m<listcomp>\u001b[0;34m(.0)\u001b[0m\n\u001b[1;32m     73\u001b[0m extents \u001b[39m=\u001b[39m []\n\u001b[1;32m     74\u001b[0m \u001b[39mfor\u001b[39;00m axis \u001b[39min\u001b[39;00m \u001b[39mrange\u001b[39m(\u001b[39m3\u001b[39m):\n\u001b[0;32m---> 75\u001b[0m     min_coord, max_coord \u001b[39m=\u001b[39m \u001b[39mzip\u001b[39m(\u001b[39m*\u001b[39m[(t\u001b[39m.\u001b[39;49ma[axis], t\u001b[39m.\u001b[39mc[axis]) \u001b[39mfor\u001b[39;00m t \u001b[39min\u001b[39;00m triangles])\n\u001b[1;32m     76\u001b[0m     extents\u001b[39m.\u001b[39mappend(\u001b[39mmax\u001b[39m(max_coord) \u001b[39m-\u001b[39m \u001b[39mmin\u001b[39m(min_coord))\n\u001b[1;32m     77\u001b[0m \u001b[39mreturn\u001b[39;00m extents\u001b[39m.\u001b[39mindex(\u001b[39mmax\u001b[39m(extents))\n",
      "\u001b[0;31mTypeError\u001b[0m: 'Vector' object is not subscriptable"
     ]
    }
   ],
   "source": [
    "import math\n",
    "\n",
    "class BoundingBox:\n",
    "    def __init__(self, min_point, max_point):\n",
    "        self.min_point = min_point\n",
    "        self.max_point = max_point\n",
    "\n",
    "    def intersects(self, origin, direction):\n",
    "        t1 = (self.min_point[0] - origin[0]) / direction[0]\n",
    "        t2 = (self.max_point[0] - origin[0]) / direction[0]\n",
    "        t3 = (self.min_point[1] - origin[1]) / direction[1]\n",
    "        t4 = (self.max_point[1] - origin[1]) / direction[1]\n",
    "        t5 = (self.min_point[2] - origin[2]) / direction[2]\n",
    "        t6 = (self.max_point[2] - origin[2]) / direction[2]\n",
    "\n",
    "        tmin = max(min(t1, t2), min(t3, t4), min(t5, t6))\n",
    "        tmax = min(max(t1, t2), max(t3, t4), max(t5, t6))\n",
    "\n",
    "        return tmax > max(tmin, 0)\n",
    "\n",
    "class RTreeNode:\n",
    "    def __init__(self, bounding_box, triangles=None, children=None):\n",
    "        self.bounding_box = bounding_box\n",
    "        self.triangles = triangles if triangles is not None else []\n",
    "        self.children = children if children is not None else []\n",
    "class RTree:\n",
    "    def __init__(self, triangles, max_triangles_per_leaf=8):\n",
    "        self.root = self.build_tree(triangles, max_triangles_per_leaf)\n",
    "\n",
    "    def build_tree(self, triangles, max_triangles_per_leaf):\n",
    "        if len(triangles) <= max_triangles_per_leaf:\n",
    "            min_point, max_point = self.compute_bounds(triangles)\n",
    "            bounding_box = BoundingBox(min_point, max_point)\n",
    "            return RTreeNode(bounding_box, triangles=triangles)\n",
    "\n",
    "        # Choose an axis to split along\n",
    "        axis = self.choose_split_axis(triangles)\n",
    "\n",
    "        # Sort triangles along the chosen axis\n",
    "        triangles.sort(key=lambda t: t.a[axis])\n",
    "\n",
    "        # Split triangles into two halves\n",
    "        mid = len(triangles) // 2\n",
    "        left_triangles = triangles[:mid]\n",
    "        right_triangles = triangles[mid:]\n",
    "\n",
    "        left_child = self.build_tree(left_triangles, max_triangles_per_leaf)\n",
    "        right_child = self.build_tree(right_triangles, max_triangles_per_leaf)\n",
    "\n",
    "        min_point = [\n",
    "            min(left_child.bounding_box.min_point[i], right_child.bounding_box.min_point[i]) for i in range(3)\n",
    "        ]\n",
    "        max_point = [\n",
    "            max(left_child.bounding_box.max_point[i], right_child.bounding_box.max_point[i]) for i in range(3)\n",
    "        ]\n",
    "        bounding_box = BoundingBox(min_point, max_point)\n",
    "\n",
    "        return RTreeNode(bounding_box, children=[left_child, right_child])\n",
    "\n",
    "    def compute_bounds(self, triangles):\n",
    "        min_point = [math.inf] * 3\n",
    "        max_point = [-math.inf] * 3\n",
    "\n",
    "        for triangle in triangles:\n",
    "            for vertex in [triangle.a, triangle.b, triangle.c]:\n",
    "                for i in range(3):\n",
    "                    min_point[i] = min(min_point[i], vertex[i])\n",
    "                    max_point[i] = max(max_point[i], vertex[i])\n",
    "\n",
    "        return min_point, max_point\n",
    "\n",
    "    def choose_split_axis(self, triangles):\n",
    "        extents = []\n",
    "        for axis in range(3):\n",
    "            min_coord, max_coord = zip(*[(t.a[axis], t.c[axis]) for t in triangles])\n",
    "            extents.append(max(max_coord) - min(min_coord))\n",
    "        return extents.index(max(extents))\n",
    "\n",
    "    def query_ray(self, origin, direction):\n",
    "        return self._query_ray_recursive(self.root, origin, direction)\n",
    "\n",
    "    def _query_ray_recursive(self, node, origin, direction):\n",
    "        if not node.bounding_box.intersects(origin, direction):\n",
    "            return []\n",
    "\n",
    "        if node.children:\n",
    "            result = []\n",
    "            for child in node.children:\n",
    "                result.extend(self._query_ray_recursive(child, origin, direction))\n",
    "            return result\n",
    "        else:\n",
    "            return node.triangles\n",
    "\n",
    "triangles = []  # List of Triangle objects\n",
    "rtree = RTree(triangles)\n",
    "origin = [0, 0, 0]\n",
    "direction = [1, 1, 1]\n",
    "intersected_triangles = rtree.query_ray(origin, direction)\n",
    "intersected_triangles\n",
    "\n"
   ]
  },
  {
   "cell_type": "code",
   "execution_count": 35,
   "metadata": {},
   "outputs": [
    {
     "data": {
      "text/plain": [
       "100"
      ]
     },
     "execution_count": 35,
     "metadata": {},
     "output_type": "execute_result"
    }
   ],
   "source": [
    "import random\n",
    "def random_vector():\n",
    "    return [random.uniform(-100, 100) for _ in range(3)]\n",
    "\n",
    "def random_triangle():\n",
    "    return Triangle([random_vector() for _ in range(3)])\n",
    "\n",
    "# Generate a list of random triangles\n",
    "num_triangles = 100\n",
    "triangles = [random_triangle() for _ in range(num_triangles)]\n",
    "rtree = RTree(triangles)\n",
    "origin = [0, 0, 0]\n",
    "direction = [100, 0.1, 0.1]\n",
    "intersected_triangles = rtree.query_ray(origin, direction)\n",
    "len(intersected_triangles)"
   ]
  },
  {
   "cell_type": "code",
   "execution_count": 53,
   "metadata": {},
   "outputs": [
    {
     "name": "stdout",
     "output_type": "stream",
     "text": [
      "[<__main__.RTreeNode object at 0x1566711d0>, <__main__.RTreeNode object at 0x1566719d0>]\n",
      "[<__main__.RTreeNode object at 0x15666bc50>, <__main__.RTreeNode object at 0x15666a3d0>]\n",
      "[<__main__.RTreeNode object at 0x15666b7d0>, <__main__.RTreeNode object at 0x15666be10>]\n",
      "[<__main__.RTreeNode object at 0x15666b290>, <__main__.RTreeNode object at 0x15666b310>]\n"
     ]
    }
   ],
   "source": [
    "tree = rtree.root\n",
    "while(len(tree.children)):\n",
    "\n",
    "    print(tree.children)\n",
    "    tree = tree.children[0]"
   ]
  },
  {
   "cell_type": "code",
   "execution_count": 61,
   "metadata": {},
   "outputs": [
    {
     "data": {
      "text/plain": [
       "True"
      ]
     },
     "execution_count": 61,
     "metadata": {},
     "output_type": "execute_result"
    }
   ],
   "source": [
    "tree.bounding_box.intersects((0.01, 0.01, 0.01), (1, 0.01, 0.01))"
   ]
  },
  {
   "cell_type": "code",
   "execution_count": 59,
   "metadata": {},
   "outputs": [
    {
     "data": {
      "text/plain": [
       "[-99.78857440376355, -85.51171711371464, -68.73622275382793]"
      ]
     },
     "execution_count": 59,
     "metadata": {},
     "output_type": "execute_result"
    }
   ],
   "source": [
    "tree.bounding_box.min_point"
   ]
  },
  {
   "cell_type": "code",
   "execution_count": 62,
   "metadata": {},
   "outputs": [
    {
     "data": {
      "text/plain": [
       "[99.54372129396623, 87.59496997493989, 86.57704565192074]"
      ]
     },
     "execution_count": 62,
     "metadata": {},
     "output_type": "execute_result"
    }
   ],
   "source": [
    "tree.bounding_box.max_point"
   ]
  },
  {
   "cell_type": "code",
   "execution_count": 63,
   "metadata": {},
   "outputs": [
    {
     "data": {
      "text/plain": [
       "[99.70778236779182, 99.96331616918184, 99.30647976197272]"
      ]
     },
     "execution_count": 63,
     "metadata": {},
     "output_type": "execute_result"
    }
   ],
   "source": [
    "rtree.root.bounding_box.max_point"
   ]
  },
  {
   "cell_type": "code",
   "execution_count": 78,
   "metadata": {},
   "outputs": [
    {
     "name": "stdout",
     "output_type": "stream",
     "text": [
      "[-10, -10, -10], [10, 10, 10]\n",
      "\t[-10, -10, -10], [0, 10, 10]\n",
      "\t\t[-10, 0, -10], [0, 10, 10]\n",
      "\t\t\t[-10, 0, 0], [0, 10, 10]\n",
      "\t\t\t[-10, 0, -10], [0, 10, 0]\n",
      "\t\t[-10, -10, -10], [0, 0, 10]\n",
      "\t\t\t[-10, -10, 0], [0, 0, 10]\n",
      "\t\t\t[-10, -10, -10], [0, 0, 0]\n",
      "\t[0, -10, -10], [10, 10, 10]\n",
      "\t\t[0, 0, -10], [10, 10, 10]\n",
      "\t\t\t[0, 0, 0], [10, 10, 10]\n",
      "\t\t\t[0, 0, -10], [10, 10, 0]\n",
      "\t\t[0, -10, -10], [10, 0, 10]\n",
      "\t\t\t[0, -10, 0], [10, 0, 10]\n",
      "\t\t\t[0, -10, -10], [10, 0, 0]\n"
     ]
    }
   ],
   "source": [
    "tree = rtree.root\n",
    "def printnode(tree):\n",
    "    return f\"{tree.bounding_box.min_point}, {tree.bounding_box.max_point}\"\n",
    "def print_r_tree(tree, level):\n",
    "    print(\"\\t\"*level + printnode(tree))\n",
    "    if(tree.children):\n",
    "        print_r_tree(tree.children[0], level+1)\n",
    "        print_r_tree(tree.children[1], level+1)\n",
    "print_r_tree(tree, 0)"
   ]
  },
  {
   "cell_type": "code",
   "execution_count": 72,
   "metadata": {},
   "outputs": [
    {
     "name": "stdout",
     "output_type": "stream",
     "text": [
      "[-33.356823213659226, 43.78979123383891, 66.0943888773289]\n",
      "[-38.328655211008275, -52.138041232992485, -36.69493469567335]\n",
      "[-76.85302275092474, -98.48395154020784, 63.447123056270414]\n"
     ]
    },
    {
     "data": {
      "text/plain": [
       "([-76.85302275092474, -98.48395154020784, -36.69493469567335],\n",
       " [-33.356823213659226, 43.78979123383891, 66.0943888773289])"
      ]
     },
     "execution_count": 72,
     "metadata": {},
     "output_type": "execute_result"
    }
   ],
   "source": [
    "import random\n",
    "def random_vector():\n",
    "    return [random.uniform(-100, 100) for _ in range(3)]\n",
    "\n",
    "def random_triangle():\n",
    "    vec = random_vector()\n",
    "    print(vec)\n",
    "    return Triangle([vec for _ in range(3)])\n",
    "\n",
    "# Generate a list of random triangles\n",
    "num_triangles = 3\n",
    "triangles = [random_triangle() for _ in range(num_triangles)]\n",
    "\n",
    "def compute_bounds(triangles):\n",
    "        min_point = [math.inf] * 3\n",
    "        max_point = [-math.inf] * 3\n",
    "\n",
    "        for triangle in triangles:\n",
    "            for vertex in [triangle.a, triangle.b, triangle.c]:\n",
    "                for i in range(3):\n",
    "                    min_point[i] = min(min_point[i], vertex[i])\n",
    "                    max_point[i] = max(max_point[i], vertex[i])\n",
    "\n",
    "        return min_point, max_point\n",
    "\n",
    "compute_bounds(triangles)"
   ]
  },
  {
   "cell_type": "code",
   "execution_count": 70,
   "metadata": {},
   "outputs": [
    {
     "data": {
      "text/plain": [
       "[<__main__.Triangle at 0x156653b90>,\n",
       " <__main__.Triangle at 0x156652810>,\n",
       " <__main__.Triangle at 0x1566c28d0>,\n",
       " <__main__.Triangle at 0x156b0b790>,\n",
       " <__main__.Triangle at 0x156b08850>,\n",
       " <__main__.Triangle at 0x156b0a750>,\n",
       " <__main__.Triangle at 0x156b08bd0>,\n",
       " <__main__.Triangle at 0x156b09490>,\n",
       " <__main__.Triangle at 0x156b09450>,\n",
       " <__main__.Triangle at 0x156b093d0>]"
      ]
     },
     "execution_count": 70,
     "metadata": {},
     "output_type": "execute_result"
    }
   ],
   "source": [
    "]"
   ]
  },
  {
   "cell_type": "code",
   "execution_count": 76,
   "metadata": {},
   "outputs": [
    {
     "name": "stdout",
     "output_type": "stream",
     "text": [
      "Ray origin: [0, 0, 0]\n",
      "Ray direction: [1, 1, 1]\n",
      "Intersected triangles:\n",
      "Triangle: [10, 0, 0] [0, 10, 0] [0, 0, 10]\n"
     ]
    }
   ],
   "source": [
    "def create_triangle_in_octant(octant):\n",
    "    base_coords = [\n",
    "        (10, 0, 0),\n",
    "        (0, 10, 0),\n",
    "        (0, 0, 10),\n",
    "    ]\n",
    "    \n",
    "    triangle_coords = [\n",
    "        [(coord if octant[i] else -coord) for i, coord in enumerate(vertex)] for vertex in base_coords\n",
    "    ]\n",
    "    \n",
    "    return Triangle(triangle_coords)\n",
    "\n",
    "# Generate a list of triangles, one in each octant\n",
    "triangles = [create_triangle_in_octant(octant) for octant in [\n",
    "    (True, True, True),\n",
    "    (True, True, False),\n",
    "    (True, False, True),\n",
    "    (True, False, False),\n",
    "    (False, True, True),\n",
    "    (False, True, False),\n",
    "    (False, False, True),\n",
    "    (False, False, False),\n",
    "]]\n",
    "\n",
    "# Build the R-Tree\n",
    "rtree = RTree(triangles, 1)\n",
    "\n",
    "# Define a ray (origin and direction)\n",
    "origin = [0, 0, 0]\n",
    "direction = [1, 1, 1]\n",
    "\n",
    "# Query the R-Tree with the ray\n",
    "intersected_triangles = rtree.query_ray(origin, direction)\n",
    "\n",
    "# Print the result\n",
    "print(\"Ray origin:\", origin)\n",
    "print(\"Ray direction:\", direction)\n",
    "print(\"Intersected triangles:\")\n",
    "for t in intersected_triangles:\n",
    "    print(\"Triangle:\", t.a, t.b, t.c)\n"
   ]
  },
  {
   "cell_type": "code",
   "execution_count": null,
   "metadata": {},
   "outputs": [],
   "source": []
  }
 ],
 "metadata": {
  "kernelspec": {
   "display_name": "py11",
   "language": "python",
   "name": "python3"
  },
  "language_info": {
   "codemirror_mode": {
    "name": "ipython",
    "version": 3
   },
   "file_extension": ".py",
   "mimetype": "text/x-python",
   "name": "python",
   "nbconvert_exporter": "python",
   "pygments_lexer": "ipython3",
   "version": "3.11.0"
  },
  "orig_nbformat": 4
 },
 "nbformat": 4,
 "nbformat_minor": 2
}
