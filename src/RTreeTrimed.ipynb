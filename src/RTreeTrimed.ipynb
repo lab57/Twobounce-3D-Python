{
 "cells": [
  {
   "cell_type": "code",
   "execution_count": 3,
   "metadata": {},
   "outputs": [
    {
     "data": {
      "text/plain": [
       "[]"
      ]
     },
     "execution_count": 3,
     "metadata": {},
     "output_type": "execute_result"
    }
   ],
   "source": [
    "import math\n",
    "from GeometricObjects import *\n",
    "from twobounce2 import *\n",
    "class BoundingBox:\n",
    "    def __init__(self, min_point, max_point):\n",
    "        self.min_point = min_point\n",
    "        self.max_point = max_point\n",
    "\n",
    "    def intersects(self, origin, direction):\n",
    "        t1 = (self.min_point[0] - origin[0]) / direction[0]\n",
    "        t2 = (self.max_point[0] - origin[0]) / direction[0]\n",
    "        t3 = (self.min_point[1] - origin[1]) / direction[1]\n",
    "        t4 = (self.max_point[1] - origin[1]) / direction[1]\n",
    "        t5 = (self.min_point[2] - origin[2]) / direction[2]\n",
    "        t6 = (self.max_point[2] - origin[2]) / direction[2]\n",
    "\n",
    "        tmin = max(min(t1, t2), min(t3, t4), min(t5, t6))\n",
    "        tmax = min(max(t1, t2), max(t3, t4), max(t5, t6))\n",
    "\n",
    "        return tmax > max(tmin, 0)\n",
    "\n",
    "class RTreeNode:\n",
    "    def __init__(self, bounding_box, triangles=None, children=None):\n",
    "        self.bounding_box = bounding_box\n",
    "        self.triangles = triangles if triangles is not None else []\n",
    "        self.children = children if children is not None else []\n",
    "class RTree:\n",
    "    def __init__(self, triangles, max_triangles_per_leaf=8):\n",
    "        self.root = self.build_tree(triangles, max_triangles_per_leaf)\n",
    "\n",
    "    def build_tree(self, triangles, max_triangles_per_leaf):\n",
    "        if len(triangles) <= max_triangles_per_leaf:\n",
    "            min_point, max_point = self.compute_bounds(triangles)\n",
    "            bounding_box = BoundingBox(min_point, max_point)\n",
    "            return RTreeNode(bounding_box, triangles=triangles)\n",
    "\n",
    "        # Choose an axis to split along\n",
    "        axis = self.choose_split_axis(triangles)\n",
    "\n",
    "        # Sort triangles along the chosen axis\n",
    "        triangles.sort(key=lambda t: t.a.arr[axis])\n",
    "\n",
    "        # Split triangles into two halves\n",
    "        mid = len(triangles) // 2\n",
    "        left_triangles = triangles[:mid]\n",
    "        right_triangles = triangles[mid:]\n",
    "\n",
    "        left_child = self.build_tree(left_triangles, max_triangles_per_leaf)\n",
    "        right_child = self.build_tree(right_triangles, max_triangles_per_leaf)\n",
    "\n",
    "        min_point = [\n",
    "            min(left_child.bounding_box.min_point[i], right_child.bounding_box.min_point[i]) for i in range(3)\n",
    "        ]\n",
    "        max_point = [\n",
    "            max(left_child.bounding_box.max_point[i], right_child.bounding_box.max_point[i]) for i in range(3)\n",
    "        ]\n",
    "        bounding_box = BoundingBox(min_point, max_point)\n",
    "\n",
    "        return RTreeNode(bounding_box, children=[left_child, right_child])\n",
    "\n",
    "    def compute_bounds(self, triangles):\n",
    "        min_point = [math.inf] * 3\n",
    "        max_point = [-math.inf] * 3\n",
    "\n",
    "        for triangle in triangles:\n",
    "            for vertex in [triangle.a, triangle.b, triangle.c]:\n",
    "                for i in range(3):\n",
    "                    min_point[i] = min(min_point[i], vertex.arr[i])\n",
    "                    max_point[i] = max(max_point[i], vertex.arr[i])\n",
    "\n",
    "        return min_point, max_point\n",
    "\n",
    "    def choose_split_axis(self, triangles):\n",
    "        extents = []\n",
    "        for axis in range(3):\n",
    "            min_coord, max_coord = zip(*[(t.a.arr[axis], t.c.arr[axis]) for t in triangles])\n",
    "            extents.append(max(max_coord) - min(min_coord))\n",
    "        return extents.index(max(extents))\n",
    "\n",
    "    def query_ray(self, origin, direction):\n",
    "        return self._query_ray_recursive(self.root, origin, direction)\n",
    "\n",
    "    def _query_ray_recursive(self, node, origin, direction):\n",
    "        if not node.bounding_box.intersects(origin, direction):\n",
    "            return []\n",
    "\n",
    "        if node.children:\n",
    "            result = []\n",
    "            for child in node.children:\n",
    "                result.extend(self._query_ray_recursive(child, origin, direction))\n",
    "            return result\n",
    "        else:\n",
    "            return node.triangles\n",
    "\n",
    "triangles = []  # List of Triangle objects\n",
    "rtree = RTree(triangles)\n",
    "origin = [0, 0, 0]\n",
    "direction = [1, 1, 1]\n",
    "intersected_triangles = rtree.query_ray(origin, direction)\n",
    "intersected_triangles\n",
    "\n"
   ]
  },
  {
   "cell_type": "code",
   "execution_count": 8,
   "metadata": {},
   "outputs": [
    {
     "data": {
      "text/plain": [
       "[SUZANNE.002: 968 tris]"
      ]
     },
     "execution_count": 8,
     "metadata": {},
     "output_type": "execute_result"
    }
   ],
   "source": [
    "\n",
    "\n",
    "tris = ObjLoader(\"../\").load(\"./monkey_circle.obj\")[1]\n",
    "#triangles = []  # List of Triangle objects\n",
    "tris[2000].object"
   ]
  },
  {
   "cell_type": "code",
   "execution_count": null,
   "metadata": {},
   "outputs": [],
   "source": []
  },
  {
   "cell_type": "code",
   "execution_count": 9,
   "metadata": {},
   "outputs": [
    {
     "name": "stdout",
     "output_type": "stream",
     "text": [
      "20:50:46 - 7744\n",
      "20:50:46 - 38\n"
     ]
    },
    {
     "data": {
      "text/plain": [
       "[Tri[< 2.4, -0.0, -0.7>, < 2.3,  0.3, -0.6>, < 2.4,  0.3, -0.8>],\n",
       " Tri[< 2.4, -0.0, -0.7>, < 2.3,  0.0, -0.5>, < 2.3,  0.3, -0.6>],\n",
       " Tri[< 2.5, -0.4, -0.0>, < 3.0, -0.4, -0.2>, < 3.0, -0.5,  0.0>],\n",
       " Tri[< 2.5, -0.4, -0.0>, < 2.6, -0.3, -0.3>, < 3.0, -0.4, -0.2>],\n",
       " Tri[< 2.6, -0.3, -0.3>, < 3.0, -0.2, -0.4>, < 3.0, -0.4, -0.2>],\n",
       " Tri[< 2.6, -0.3, -0.3>, < 2.6, -0.2, -0.4>, < 3.0, -0.2, -0.4>],\n",
       " Tri[< 2.6,  0.1, -0.8>, < 2.6,  0.0, -0.9>, < 2.6,  0.1, -0.8>],\n",
       " Tri[< 2.6,  0.1, -0.8>, < 2.7,  0.0, -0.7>, < 2.6,  0.0, -0.9>],\n",
       " Tri[< 3.4, -0.2, -0.2>, < 3.4, -0.1, -0.4>, < 3.5, -0.0, -0.4>],\n",
       " Tri[< 3.4, -0.2, -0.2>, < 3.6, -0.1, -0.1>, < 3.5, -0.2, -0.1>],\n",
       " Tri[< 3.6,  0.1, -0.2>, < 3.5,  0.0,  0.0>, < 3.6, -0.1, -0.1>],\n",
       " Tri[< 3.6,  0.1, -0.2>, < 3.6,  0.2, -0.1>, < 3.6,  0.1, -0.1>],\n",
       " Tri[< 3.6,  0.1, -0.2>, < 3.6,  0.1, -0.3>, < 3.6,  0.1, -0.2>],\n",
       " Tri[< 3.6,  0.1, -0.2>, < 3.6,  0.1, -0.1>, < 3.5,  0.0,  0.0>],\n",
       " Tri[< 3.6,  0.1, -0.2>, < 3.6,  0.1, -0.2>, < 3.6,  0.2, -0.1>],\n",
       " Tri[< 3.6, -0.1,  0.0>, < 3.6, -0.2, -0.0>, < 3.6, -0.1, -0.1>],\n",
       " Tri[< 3.6, -0.1,  0.0>, < 3.6, -0.1, -0.1>, < 3.6, -0.1, -0.1>],\n",
       " Tri[< 3.6, -0.1,  0.0>, < 3.6, -0.1, -0.0>, < 3.6, -0.2, -0.0>],\n",
       " Tri[< 3.6, -0.1, -0.1>, < 3.5,  0.0, -0.3>, < 3.6,  0.1, -0.2>],\n",
       " Tri[< 3.6, -0.1, -0.1>, < 3.5, -0.0, -0.4>, < 3.5,  0.0, -0.3>],\n",
       " Tri[< 3.5,  0.0,  0.0>, < 3.5,  0.1,  0.2>, < 3.6, -0.1,  0.2>],\n",
       " Tri[< 3.5,  0.0,  0.0>, < 3.6,  0.1,  0.2>, < 3.5,  0.1,  0.2>],\n",
       " Tri[< 3.6,  0.1, -0.1>, < 3.6,  0.2, -0.1>, < 3.6,  0.2,  0.0>],\n",
       " Tri[< 2.1,  0.1,  0.3>, < 2.1, -0.2, -0.0>, < 2.3, -0.1,  0.3>],\n",
       " Tri[< 2.1,  0.1,  0.3>, < 2.0,  0.1, -0.0>, < 2.1, -0.2, -0.0>],\n",
       " Tri[< 2.3, -0.1,  0.3>, < 2.5, -0.4, -0.0>, < 2.5, -0.3,  0.3>],\n",
       " Tri[< 2.3, -0.1,  0.3>, < 2.6, -0.2,  0.4>, < 2.2,  0.0,  0.5>],\n",
       " Tri[< 2.3, -0.1,  0.3>, < 2.2,  0.0,  0.5>, < 2.1,  0.1,  0.3>],\n",
       " Tri[< 2.3, -0.1,  0.3>, < 2.1, -0.2, -0.0>, < 2.5, -0.4, -0.0>],\n",
       " Tri[< 2.3, -0.1,  0.3>, < 2.5, -0.3,  0.3>, < 2.6, -0.2,  0.4>],\n",
       " Tri[< 3.6, -0.2,  0.1>, < 3.6, -0.2,  0.2>, < 3.6, -0.2,  0.2>],\n",
       " Tri[< 3.6, -0.2,  0.1>, < 3.6, -0.1,  0.1>, < 3.6, -0.1,  0.1>],\n",
       " Tri[< 3.6, -0.2,  0.1>, < 3.6, -0.1,  0.2>, < 3.6, -0.2,  0.2>],\n",
       " Tri[< 3.6, -0.1,  0.1>, < 3.6, -0.2,  0.0>, < 3.6, -0.1,  0.1>],\n",
       " Tri[< 3.6, -0.1,  0.1>, < 3.6, -0.2,  0.0>, < 3.6, -0.2,  0.0>],\n",
       " Tri[< 3.6, -0.1,  0.0>, < 3.6, -0.1, -0.1>, < 3.5,  0.0,  0.0>],\n",
       " Tri[< 3.6, -0.1,  0.0>, < 3.6, -0.1, -0.1>, < 3.6, -0.1, -0.1>],\n",
       " Tri[< 3.6, -0.1,  0.1>, < 3.5, -0.1,  0.1>, < 3.6, -0.1,  0.2>]]"
      ]
     },
     "execution_count": 9,
     "metadata": {},
     "output_type": "execute_result"
    }
   ],
   "source": [
    "import timeit\n",
    "\n",
    "rtree = RTree(tris, 10)\n",
    "origin = [0, 0, 0]\n",
    "direction = [1, 0.000001, 0.000001]\n",
    "intersected_triangles = rtree.query_ray(origin, direction)\n",
    "timefunc = lambda : rtree.query_ray(origin, direction)\n",
    "print(len(tris))\n",
    "print(len(intersected_triangles))\n",
    "intersected_triangles"
   ]
  },
  {
   "cell_type": "code",
   "execution_count": null,
   "metadata": {},
   "outputs": [],
   "source": []
  },
  {
   "cell_type": "code",
   "execution_count": 10,
   "metadata": {},
   "outputs": [
    {
     "name": "stdout",
     "output_type": "stream",
     "text": [
      "02:14:40 - [inf, inf, inf], [-inf, -inf, -inf]\n"
     ]
    }
   ],
   "source": [
    "tree = rtree.root\n",
    "def printnode(tree):\n",
    "    return f\"{tree.bounding_box.min_point}, {tree.bounding_box.max_point}\"\n",
    "def print_r_tree(tree, level):\n",
    "    print(\"\\t\"*level + printnode(tree))\n",
    "    if(tree.children):\n",
    "        print_r_tree(tree.children[0], level+1)\n",
    "        print_r_tree(tree.children[1], level+1)\n",
    "print_r_tree(tree, 0)"
   ]
  },
  {
   "cell_type": "code",
   "execution_count": null,
   "metadata": {},
   "outputs": [],
   "source": []
  }
 ],
 "metadata": {
  "kernelspec": {
   "display_name": "py11",
   "language": "python",
   "name": "python3"
  },
  "language_info": {
   "codemirror_mode": {
    "name": "ipython",
    "version": 3
   },
   "file_extension": ".py",
   "mimetype": "text/x-python",
   "name": "python",
   "nbconvert_exporter": "python",
   "pygments_lexer": "ipython3",
   "version": "3.11.0"
  },
  "orig_nbformat": 4
 },
 "nbformat": 4,
 "nbformat_minor": 2
}
